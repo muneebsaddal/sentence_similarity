{
  "nbformat": 4,
  "nbformat_minor": 0,
  "metadata": {
    "colab": {
      "name": "sentence_similarity.ipynb",
      "provenance": [],
      "collapsed_sections": []
    },
    "kernelspec": {
      "name": "python3",
      "display_name": "Python 3"
    }
  },
  "cells": [
    {
      "cell_type": "code",
      "metadata": {
        "id": "TNRpWzGcTuTV"
      },
      "source": [
        "import pandas as pd\n",
        "\n",
        "df = pd.read_excel('/content/SORs.xlsx')\n",
        "sentences = df['Observation Details'].tolist()"
      ],
      "execution_count": 1,
      "outputs": []
    },
    {
      "cell_type": "code",
      "metadata": {
        "id": "O1Zia0XDWBjA"
      },
      "source": [
        "import tensorflow as tf\n",
        "import tensorflow_hub as hub\n",
        "import numpy as np"
      ],
      "execution_count": 2,
      "outputs": []
    },
    {
      "cell_type": "code",
      "metadata": {
        "id": "MPR4luDKWZ44"
      },
      "source": [
        "module_url = \"https://tfhub.dev/google/universal-sentence-encoder/4\" \n",
        "model = hub.load(module_url)"
      ],
      "execution_count": 3,
      "outputs": []
    },
    {
      "cell_type": "code",
      "metadata": {
        "id": "TTwimPfDWb3T"
      },
      "source": [
        "### change the string below for different query ###\n",
        "query = \"Face and eye protection equipment shall be kept clean and in good repair. The use of this type equipment with structural or optical defects shall be prohibited.\"\n",
        "query_vec = model([query])[0]"
      ],
      "execution_count": 4,
      "outputs": []
    },
    {
      "cell_type": "code",
      "metadata": {
        "id": "xOhpfJnWVjXz"
      },
      "source": [
        "def cosine(u, v):\n",
        "    return np.dot(u, v) / (np.linalg.norm(u) * np.linalg.norm(v))"
      ],
      "execution_count": 5,
      "outputs": []
    },
    {
      "cell_type": "code",
      "metadata": {
        "id": "CDDjav3_WflG"
      },
      "source": [
        "sim_dict = {}\n",
        "\n",
        "for sent in sentences:\n",
        "  sim = cosine(query_vec, model([sent])[0])\n",
        "  sim_dict[sent] = sim"
      ],
      "execution_count": 6,
      "outputs": []
    },
    {
      "cell_type": "code",
      "metadata": {
        "id": "4xm9NqbnX3cc"
      },
      "source": [
        "from itertools import islice\n",
        "\n",
        "def take(n, iterable):\n",
        "    return list(islice(iterable, n))"
      ],
      "execution_count": 7,
      "outputs": []
    },
    {
      "cell_type": "code",
      "metadata": {
        "id": "V4G3Jt71Wm52"
      },
      "source": [
        "import operator\n",
        "\n",
        "d = dict( sorted(sim_dict.items(), key=operator.itemgetter(1), reverse=True))\n",
        "n_items = take(4, d.items())\n",
        "## run the print statement below to get the similarity score with respect to the sentences ##\n",
        "#print(n_items)"
      ],
      "execution_count": 8,
      "outputs": []
    },
    {
      "cell_type": "code",
      "metadata": {
        "id": "h5lwopZ-Ww9M",
        "outputId": "3efc670a-c452-4b06-980d-208e793f095d",
        "colab": {
          "base_uri": "https://localhost:8080/",
          "height": 54
        }
      },
      "source": [
        "print(\"Best related observations are: \", [x[0] for x in n_items])"
      ],
      "execution_count": 9,
      "outputs": [
        {
          "output_type": "stream",
          "text": [
            "Best related observations are:  ['Face and eye protection equipment shall be kept clean and in good repair. The use of this type equipment with structural or optical defects shall be prohibited.', 'Employees shall be provided with eye and face protection equipment when machines or operations present potential eye or face injury from physical, chemical, or radiation agents.', 'Aisles and passageways shall be kept clear to provide for the free and safe movement of material handling equipment or employees. Such areas shall be kept in good repair.', 'In locations where electric equipment would be exposed to physical damage, enclosures or guards shall be so arranged and of such strength as to prevent such damage.']\n"
          ],
          "name": "stdout"
        }
      ]
    },
    {
      "cell_type": "code",
      "metadata": {
        "id": "9IiCKOulZ2aR"
      },
      "source": [
        ""
      ],
      "execution_count": null,
      "outputs": []
    }
  ]
}